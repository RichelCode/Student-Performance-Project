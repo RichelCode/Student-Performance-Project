{
 "cells": [
  {
   "cell_type": "code",
   "execution_count": 10,
   "id": "c6ff46ef",
   "metadata": {},
   "outputs": [
    {
     "name": "stdout",
     "output_type": "stream",
     "text": [
      "Defaulting to user installation because normal site-packages is not writeable\n",
      "Requirement already satisfied: dash in c:\\users\\ewura\\appdata\\roaming\\python\\python39\\site-packages (2.18.2)\n",
      "Requirement already satisfied: nest-asyncio in c:\\programdata\\anaconda3\\lib\\site-packages (from dash) (1.5.5)\n",
      "Requirement already satisfied: setuptools in c:\\programdata\\anaconda3\\lib\\site-packages (from dash) (61.2.0)\n",
      "Requirement already satisfied: Werkzeug<3.1 in c:\\programdata\\anaconda3\\lib\\site-packages (from dash) (2.0.3)\n",
      "Requirement already satisfied: dash-table==5.0.0 in c:\\users\\ewura\\appdata\\roaming\\python\\python39\\site-packages (from dash) (5.0.0)\n",
      "Requirement already satisfied: retrying in c:\\users\\ewura\\appdata\\roaming\\python\\python39\\site-packages (from dash) (1.3.4)\n",
      "Requirement already satisfied: dash-html-components==2.0.0 in c:\\users\\ewura\\appdata\\roaming\\python\\python39\\site-packages (from dash) (2.0.0)\n",
      "Requirement already satisfied: dash-core-components==2.0.0 in c:\\users\\ewura\\appdata\\roaming\\python\\python39\\site-packages (from dash) (2.0.0)\n",
      "Requirement already satisfied: requests in c:\\programdata\\anaconda3\\lib\\site-packages (from dash) (2.27.1)\n",
      "Requirement already satisfied: importlib-metadata in c:\\programdata\\anaconda3\\lib\\site-packages (from dash) (4.11.3)\n",
      "Requirement already satisfied: typing-extensions>=4.1.1 in c:\\users\\ewura\\appdata\\roaming\\python\\python39\\site-packages (from dash) (4.10.0)\n",
      "Requirement already satisfied: plotly>=5.0.0 in c:\\programdata\\anaconda3\\lib\\site-packages (from dash) (5.6.0)\n",
      "Requirement already satisfied: Flask<3.1,>=1.0.4 in c:\\programdata\\anaconda3\\lib\\site-packages (from dash) (1.1.2)\n",
      "Requirement already satisfied: click>=5.1 in c:\\programdata\\anaconda3\\lib\\site-packages (from Flask<3.1,>=1.0.4->dash) (8.0.4)\n",
      "Requirement already satisfied: itsdangerous>=0.24 in c:\\programdata\\anaconda3\\lib\\site-packages (from Flask<3.1,>=1.0.4->dash) (2.0.1)\n",
      "Requirement already satisfied: Jinja2>=2.10.1 in c:\\programdata\\anaconda3\\lib\\site-packages (from Flask<3.1,>=1.0.4->dash) (2.11.3)\n",
      "Requirement already satisfied: colorama in c:\\programdata\\anaconda3\\lib\\site-packages (from click>=5.1->Flask<3.1,>=1.0.4->dash) (0.4.4)\n",
      "Requirement already satisfied: MarkupSafe>=0.23 in c:\\programdata\\anaconda3\\lib\\site-packages (from Jinja2>=2.10.1->Flask<3.1,>=1.0.4->dash) (2.0.1)\n",
      "Requirement already satisfied: tenacity>=6.2.0 in c:\\programdata\\anaconda3\\lib\\site-packages (from plotly>=5.0.0->dash) (8.0.1)\n",
      "Requirement already satisfied: six in c:\\programdata\\anaconda3\\lib\\site-packages (from plotly>=5.0.0->dash) (1.16.0)\n",
      "Requirement already satisfied: zipp>=0.5 in c:\\programdata\\anaconda3\\lib\\site-packages (from importlib-metadata->dash) (3.7.0)\n",
      "Requirement already satisfied: urllib3<1.27,>=1.21.1 in c:\\programdata\\anaconda3\\lib\\site-packages (from requests->dash) (1.26.9)\n",
      "Requirement already satisfied: charset-normalizer~=2.0.0 in c:\\programdata\\anaconda3\\lib\\site-packages (from requests->dash) (2.0.4)\n",
      "Requirement already satisfied: idna<4,>=2.5 in c:\\programdata\\anaconda3\\lib\\site-packages (from requests->dash) (3.3)\n",
      "Requirement already satisfied: certifi>=2017.4.17 in c:\\programdata\\anaconda3\\lib\\site-packages (from requests->dash) (2021.10.8)\n",
      "Note: you may need to restart the kernel to use updated packages.\n"
     ]
    }
   ],
   "source": [
    "pip install dash"
   ]
  },
  {
   "cell_type": "code",
   "execution_count": 18,
   "id": "eb7abea1",
   "metadata": {},
   "outputs": [],
   "source": [
    "import dash\n",
    "from dash import dash_table\n",
    "from dash import dcc, html\n",
    "from dash.dependencies import Input, Output\n",
    "import plotly.express as px\n",
    "import pandas as pd"
   ]
  },
  {
   "cell_type": "code",
   "execution_count": 12,
   "id": "e2ce842a",
   "metadata": {},
   "outputs": [],
   "source": [
    "students_data = pd.read_csv(r\"C:\\Users\\EWURA\\Desktop\\Vacation Project\\archive (3)\\students.csv\")"
   ]
  },
  {
   "cell_type": "code",
   "execution_count": 13,
   "id": "1200e51d",
   "metadata": {},
   "outputs": [
    {
     "name": "stdout",
     "output_type": "stream",
     "text": [
      "Dataset Preview:\n",
      "   StudentID               Name  Age                          Email  \\\n",
      "0       3336       David Palmer   19             sean43@hotmail.com   \n",
      "1       8774       Andrew Roach   23             vbecker@harvey.com   \n",
      "2       1396  Jonathan Gonzalez   22           hollydavis@gmail.com   \n",
      "3       6716     Kenneth Morrow   24  ganderson@wheeler-atkins.info   \n",
      "4       8830   Kaitlyn Martinez   18           hayesdiane@gmail.com   \n",
      "\n",
      "    Department   GPA  GraduationYear  \n",
      "0  Mathematics  3.16            2026  \n",
      "1    Chemistry  3.75            2027  \n",
      "2      Physics  2.95            2027  \n",
      "3      Physics  3.55            2029  \n",
      "4    Chemistry  2.29            2025  \n",
      "\n",
      "Dataset Info:\n",
      "<class 'pandas.core.frame.DataFrame'>\n",
      "RangeIndex: 200 entries, 0 to 199\n",
      "Data columns (total 7 columns):\n",
      " #   Column          Non-Null Count  Dtype  \n",
      "---  ------          --------------  -----  \n",
      " 0   StudentID       200 non-null    int64  \n",
      " 1   Name            200 non-null    object \n",
      " 2   Age             200 non-null    int64  \n",
      " 3   Email           200 non-null    object \n",
      " 4   Department      200 non-null    object \n",
      " 5   GPA             200 non-null    float64\n",
      " 6   GraduationYear  200 non-null    int64  \n",
      "dtypes: float64(1), int64(3), object(3)\n",
      "memory usage: 11.1+ KB\n",
      "None\n",
      "\n",
      "Missing Values Summary:\n",
      "StudentID         0\n",
      "Name              0\n",
      "Age               0\n",
      "Email             0\n",
      "Department        0\n",
      "GPA               0\n",
      "GraduationYear    0\n",
      "dtype: int64\n"
     ]
    }
   ],
   "source": [
    "# Display basic information\n",
    "print(\"Dataset Preview:\")\n",
    "print(students_data.head())\n",
    "print(\"\\nDataset Info:\")\n",
    "print(students_data.info())\n",
    "print(\"\\nMissing Values Summary:\")\n",
    "print(students_data.isnull().sum())"
   ]
  },
  {
   "cell_type": "code",
   "execution_count": 14,
   "id": "c5794acb",
   "metadata": {},
   "outputs": [
    {
     "name": "stdout",
     "output_type": "stream",
     "text": [
      "Duplicate Student IDs: 0\n",
      "Invalid Graduation Years: 0\n",
      "Summary Statistics: {'Total Students': 200, 'Average GPA': 3.027849999999999, 'Median GPA': 3.08, 'GPA Range': (2.0, 3.99)}\n"
     ]
    }
   ],
   "source": [
    "# Clean and preprocess data\n",
    "# Check for duplicate StudentIDs\n",
    "duplicates = students_data.duplicated(subset=\"StudentID\").sum()\n",
    "print(f\"Duplicate Student IDs: {duplicates}\")\n",
    "\n",
    "# Ensure GraduationYear and GPA are valid\n",
    "invalid_graduation = students_data[students_data['GraduationYear'] < 2023]\n",
    "print(f\"Invalid Graduation Years: {len(invalid_graduation)}\")\n",
    "\n",
    "# Basic statistics\n",
    "summary_stats = {\n",
    "    \"Total Students\": students_data.shape[0],\n",
    "    \"Average GPA\": students_data['GPA'].mean(),\n",
    "    \"Median GPA\": students_data['GPA'].median(),\n",
    "    \"GPA Range\": (students_data['GPA'].min(), students_data['GPA'].max())\n",
    "}\n",
    "print(\"Summary Statistics:\", summary_stats)\n"
   ]
  },
  {
   "cell_type": "code",
   "execution_count": 19,
   "id": "9f1a4678",
   "metadata": {},
   "outputs": [
    {
     "data": {
      "text/html": [
       "\n",
       "        <iframe\n",
       "            width=\"100%\"\n",
       "            height=\"650\"\n",
       "            src=\"http://127.0.0.1:8050/\"\n",
       "            frameborder=\"0\"\n",
       "            allowfullscreen\n",
       "            \n",
       "        ></iframe>\n",
       "        "
      ],
      "text/plain": [
       "<IPython.lib.display.IFrame at 0x19970f5f280>"
      ]
     },
     "metadata": {},
     "output_type": "display_data"
    }
   ],
   "source": [
    "# Initialize the Dash app\n",
    "app = dash.Dash(__name__)\n",
    "\n",
    "# Layout: Defines the structure and appearance of the dashboard\n",
    "app.layout = html.Div([\n",
    "    # Dashboard Title\n",
    "    html.H1(\"Student Performance Dashboard\", style={'textAlign': 'center'}),\n",
    "    \n",
    "    # Dropdown filter for Department\n",
    "    html.Div([\n",
    "        html.Label(\"Filter by Department:\"),\n",
    "        dcc.Dropdown(\n",
    "            id='department-filter',\n",
    "            options=[{'label': dept, 'value': dept} for dept in students_data['Department'].unique()],\n",
    "            value=None,  # Default value (no selection)\n",
    "            placeholder=\"Select a department\"\n",
    "        )\n",
    "    ], style={'width': '50%', 'margin': 'auto'}),\n",
    "\n",
    "    # GPA Distribution Graph\n",
    "    dcc.Graph(id='gpa-distribution'),\n",
    "\n",
    "    # Graduation Year Trends Graph\n",
    "    dcc.Graph(id='graduation-trends'),\n",
    "\n",
    "    # Average GPA by Department\n",
    "    dcc.Graph(id='avg-gpa-department'),\n",
    "\n",
    "    # Top Performers Section\n",
    "    html.Div([\n",
    "        html.H3(\"Top Performing Students\"),\n",
    "        dash_table.DataTable(\n",
    "            id='top-performers',\n",
    "            columns=[\n",
    "                {'name': 'Name', 'id': 'Name'},\n",
    "                {'name': 'Department', 'id': 'Department'},\n",
    "                {'name': 'GPA', 'id': 'GPA'}\n",
    "            ],\n",
    "            page_size=5,  # Show 5 rows per page\n",
    "            style_table={'overflowX': 'auto'},\n",
    "            style_cell={'textAlign': 'left', 'padding': '10px'},\n",
    "            style_header={\n",
    "                'backgroundColor': 'rgb(230, 230, 230)',\n",
    "                'fontWeight': 'bold'\n",
    "            },\n",
    "        )\n",
    "    ], style={'margin': '20px'}),\n",
    "\n",
    "    # Data Table\n",
    "    html.Div([\n",
    "        html.H3(\"Student Data Table\"),\n",
    "        dash_table.DataTable(\n",
    "            id='data-table',\n",
    "            columns=[{'name': col, 'id': col} for col in students_data.columns],\n",
    "            data=students_data.to_dict('records'),  # Populate table with all data\n",
    "            page_size=10,  # Show 10 rows per page\n",
    "            filter_action='native',  # Allow filtering\n",
    "            sort_action='native',  # Allow sorting\n",
    "            style_table={'overflowX': 'auto'},\n",
    "            style_cell={'textAlign': 'left', 'padding': '10px'},\n",
    "            style_header={\n",
    "                'backgroundColor': 'rgb(230, 230, 230)',\n",
    "                'fontWeight': 'bold'\n",
    "            },\n",
    "        )\n",
    "    ], style={'margin': '20px'})\n",
    "])\n",
    "\n",
    "# Callback: Controls interactivity for filtering and visualizations\n",
    "@app.callback(\n",
    "    [Output('gpa-distribution', 'figure'),\n",
    "     Output('graduation-trends', 'figure'),\n",
    "     Output('avg-gpa-department', 'figure'),\n",
    "     Output('top-performers', 'data')],\n",
    "    [Input('department-filter', 'value')]\n",
    ")\n",
    "def update_graphs_and_table(selected_department):\n",
    "    # Filter data based on dropdown selection\n",
    "    filtered_data = students_data\n",
    "    if selected_department:\n",
    "        filtered_data = filtered_data[students_data['Department'] == selected_department]\n",
    "\n",
    "    # GPA Distribution Graph\n",
    "    gpa_fig = px.histogram(\n",
    "        filtered_data, x='GPA', nbins=20,\n",
    "        title='GPA Distribution',\n",
    "        labels={'GPA': 'GPA'},\n",
    "        color_discrete_sequence=['blue']  # Optional color\n",
    "    )\n",
    "\n",
    "    # Graduation Year Trends Graph\n",
    "    grad_fig = px.bar(\n",
    "        filtered_data.groupby('GraduationYear').size().reset_index(name='Count'),\n",
    "        x='GraduationYear', y='Count',\n",
    "        title='Graduation Year Trends'\n",
    "    )\n",
    "\n",
    "    # Average GPA by Department\n",
    "    avg_gpa_fig = px.bar(\n",
    "        filtered_data.groupby('Department')['GPA'].mean().reset_index(),\n",
    "        x='Department', y='GPA',\n",
    "        title='Average GPA by Department',\n",
    "        labels={'GPA': 'Average GPA'}\n",
    "    )\n",
    "\n",
    "    # Top Performing Students Table\n",
    "    top_students = filtered_data.nlargest(5, 'GPA')[['Name', 'Department', 'GPA']]\n",
    "    top_students_data = top_students.to_dict('records')\n",
    "\n",
    "    return gpa_fig, grad_fig, avg_gpa_fig, top_students_data\n",
    "\n",
    "# Run the app\n",
    "if __name__ == '__main__':\n",
    "    app.run_server(debug=True)\n"
   ]
  },
  {
   "cell_type": "code",
   "execution_count": 16,
   "id": "e1a02432",
   "metadata": {},
   "outputs": [],
   "source": []
  },
  {
   "cell_type": "code",
   "execution_count": null,
   "id": "045e7e57",
   "metadata": {},
   "outputs": [],
   "source": []
  },
  {
   "cell_type": "code",
   "execution_count": null,
   "id": "f1ce5436",
   "metadata": {},
   "outputs": [],
   "source": []
  },
  {
   "cell_type": "code",
   "execution_count": null,
   "id": "7a2e7809",
   "metadata": {},
   "outputs": [],
   "source": []
  },
  {
   "cell_type": "code",
   "execution_count": null,
   "id": "14264a64",
   "metadata": {},
   "outputs": [],
   "source": []
  },
  {
   "cell_type": "code",
   "execution_count": null,
   "id": "5aab25dc",
   "metadata": {},
   "outputs": [],
   "source": []
  },
  {
   "cell_type": "code",
   "execution_count": null,
   "id": "fed73183",
   "metadata": {},
   "outputs": [],
   "source": []
  },
  {
   "cell_type": "code",
   "execution_count": null,
   "id": "f1de37be",
   "metadata": {},
   "outputs": [],
   "source": []
  },
  {
   "cell_type": "code",
   "execution_count": null,
   "id": "e551d80d",
   "metadata": {},
   "outputs": [],
   "source": []
  },
  {
   "cell_type": "code",
   "execution_count": null,
   "id": "e02e23eb",
   "metadata": {},
   "outputs": [],
   "source": []
  },
  {
   "cell_type": "code",
   "execution_count": null,
   "id": "410c95c6",
   "metadata": {},
   "outputs": [],
   "source": []
  },
  {
   "cell_type": "code",
   "execution_count": null,
   "id": "3fa2d02a",
   "metadata": {},
   "outputs": [],
   "source": []
  }
 ],
 "metadata": {
  "kernelspec": {
   "display_name": "Python 3 (ipykernel)",
   "language": "python",
   "name": "python3"
  },
  "language_info": {
   "codemirror_mode": {
    "name": "ipython",
    "version": 3
   },
   "file_extension": ".py",
   "mimetype": "text/x-python",
   "name": "python",
   "nbconvert_exporter": "python",
   "pygments_lexer": "ipython3",
   "version": "3.9.12"
  }
 },
 "nbformat": 4,
 "nbformat_minor": 5
}
